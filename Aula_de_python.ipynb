{
  "nbformat": 4,
  "nbformat_minor": 0,
  "metadata": {
    "colab": {
      "name": "Aula de python",
      "provenance": [],
      "authorship_tag": "ABX9TyM3NFB8LQi5VxZVm+FuKYlN",
      "include_colab_link": true
    },
    "kernelspec": {
      "name": "python3",
      "display_name": "Python 3"
    }
  },
  "cells": [
    {
      "cell_type": "markdown",
      "metadata": {
        "id": "view-in-github",
        "colab_type": "text"
      },
      "source": [
        "<a href=\"https://colab.research.google.com/github/onvito/Marcelo-Victor---Probabilidade-e-Estartistica/blob/master/Aula_de_python.ipynb\" target=\"_parent\"><img src=\"https://colab.research.google.com/assets/colab-badge.svg\" alt=\"Open In Colab\"/></a>"
      ]
    },
    {
      "cell_type": "code",
      "metadata": {
        "id": "fTH47seCW5JP",
        "colab_type": "code",
        "colab": {
          "base_uri": "https://localhost:8080/",
          "height": 34
        },
        "outputId": "9b9f99fc-5bcb-42d6-9e5b-39c08ccfa86a"
      },
      "source": [
        "nome = \"Marcelo\"\n",
        "print(nome)\n"
      ],
      "execution_count": null,
      "outputs": [
        {
          "output_type": "stream",
          "text": [
            "Marcelo\n"
          ],
          "name": "stdout"
        }
      ]
    },
    {
      "cell_type": "code",
      "metadata": {
        "id": "8XC1OaF2YNxW",
        "colab_type": "code",
        "colab": {
          "base_uri": "https://localhost:8080/",
          "height": 34
        },
        "outputId": "ad5bb3e9-d7c1-4f65-e48e-34174dbe4712"
      },
      "source": [
        "idade = 18\n",
        "idade"
      ],
      "execution_count": null,
      "outputs": [
        {
          "output_type": "execute_result",
          "data": {
            "text/plain": [
              "18"
            ]
          },
          "metadata": {
            "tags": []
          },
          "execution_count": 5
        }
      ]
    },
    {
      "cell_type": "code",
      "metadata": {
        "id": "26Xb1WM2YQwr",
        "colab_type": "code",
        "colab": {
          "base_uri": "https://localhost:8080/",
          "height": 34
        },
        "outputId": "c53a89c7-04b1-4ec0-d0cf-903fc6c82d5b"
      },
      "source": [
        "idade + 3\n"
      ],
      "execution_count": null,
      "outputs": [
        {
          "output_type": "execute_result",
          "data": {
            "text/plain": [
              "21"
            ]
          },
          "metadata": {
            "tags": []
          },
          "execution_count": 6
        }
      ]
    },
    {
      "cell_type": "code",
      "metadata": {
        "id": "fz9TeE9wYWSb",
        "colab_type": "code",
        "colab": {
          "base_uri": "https://localhost:8080/",
          "height": 34
        },
        "outputId": "d39c6823-2d80-47fd-acd9-3348481cfe8c"
      },
      "source": [
        "idade = idade + 3\n",
        "print(idade)"
      ],
      "execution_count": null,
      "outputs": [
        {
          "output_type": "stream",
          "text": [
            "21\n"
          ],
          "name": "stdout"
        }
      ]
    },
    {
      "cell_type": "code",
      "metadata": {
        "id": "oPY90O7FtLgP",
        "colab_type": "code",
        "colab": {
          "base_uri": "https://localhost:8080/",
          "height": 34
        },
        "outputId": "516bd1d3-0fd4-441e-9f9b-cdb1756016a5"
      },
      "source": [
        "idade"
      ],
      "execution_count": null,
      "outputs": [
        {
          "output_type": "execute_result",
          "data": {
            "text/plain": [
              "21"
            ]
          },
          "metadata": {
            "tags": []
          },
          "execution_count": 8
        }
      ]
    },
    {
      "cell_type": "code",
      "metadata": {
        "id": "LNOwecj5tNMI",
        "colab_type": "code",
        "colab": {}
      },
      "source": [
        "def mais_um_ano(idade):\n",
        "  print(\"ta ai macho\")\n",
        "  return idade + 3"
      ],
      "execution_count": null,
      "outputs": []
    },
    {
      "cell_type": "code",
      "metadata": {
        "id": "WCbuCWrAt3af",
        "colab_type": "code",
        "colab": {
          "base_uri": "https://localhost:8080/",
          "height": 51
        },
        "outputId": "58116edf-1a59-41ab-bdb0-4b696cafa088"
      },
      "source": [
        "mais_um_ano(44)"
      ],
      "execution_count": null,
      "outputs": [
        {
          "output_type": "stream",
          "text": [
            "ta ai macho\n"
          ],
          "name": "stdout"
        },
        {
          "output_type": "execute_result",
          "data": {
            "text/plain": [
              "47"
            ]
          },
          "metadata": {
            "tags": []
          },
          "execution_count": 10
        }
      ]
    },
    {
      "cell_type": "code",
      "metadata": {
        "id": "wW4tv2Met6MO",
        "colab_type": "code",
        "colab": {
          "base_uri": "https://localhost:8080/",
          "height": 34
        },
        "outputId": "c8f876fd-b22e-4254-d02a-f29f43ab9bac"
      },
      "source": [
        "filmes = [\"John Wick\" , \"Sherlock\" , \"Sonic\"]\n",
        "print(filmes)"
      ],
      "execution_count": null,
      "outputs": [
        {
          "output_type": "stream",
          "text": [
            "['John Wick', 'Sherlock', 'Sonic']\n"
          ],
          "name": "stdout"
        }
      ]
    },
    {
      "cell_type": "code",
      "metadata": {
        "id": "ci-xqservKeQ",
        "colab_type": "code",
        "colab": {
          "base_uri": "https://localhost:8080/",
          "height": 34
        },
        "outputId": "716d1550-5220-46dc-a3e0-a8b58048011e"
      },
      "source": [
        "list(filmes)"
      ],
      "execution_count": null,
      "outputs": [
        {
          "output_type": "execute_result",
          "data": {
            "text/plain": [
              "['John Wick', 'Sherlock', 'Sonic']"
            ]
          },
          "metadata": {
            "tags": []
          },
          "execution_count": 12
        }
      ]
    },
    {
      "cell_type": "code",
      "metadata": {
        "id": "7eqQaKq9vgR3",
        "colab_type": "code",
        "colab": {
          "base_uri": "https://localhost:8080/",
          "height": 163
        },
        "outputId": "712f2734-1d98-408b-e1bb-6f101b2bc253"
      },
      "source": [
        "list(idade)"
      ],
      "execution_count": null,
      "outputs": [
        {
          "output_type": "error",
          "ename": "TypeError",
          "evalue": "ignored",
          "traceback": [
            "\u001b[0;31m---------------------------------------------------------------------------\u001b[0m",
            "\u001b[0;31mTypeError\u001b[0m                                 Traceback (most recent call last)",
            "\u001b[0;32m<ipython-input-13-ef35310dda36>\u001b[0m in \u001b[0;36m<module>\u001b[0;34m()\u001b[0m\n\u001b[0;32m----> 1\u001b[0;31m \u001b[0mlist\u001b[0m\u001b[0;34m(\u001b[0m\u001b[0midade\u001b[0m\u001b[0;34m)\u001b[0m\u001b[0;34m\u001b[0m\u001b[0;34m\u001b[0m\u001b[0m\n\u001b[0m",
            "\u001b[0;31mTypeError\u001b[0m: 'int' object is not iterable"
          ]
        }
      ]
    },
    {
      "cell_type": "code",
      "metadata": {
        "id": "HiFlSYxpvjUO",
        "colab_type": "code",
        "colab": {}
      },
      "source": [
        "def imprime_filmes(filmes_que_gosto):\n",
        "  print(\"Alguns filmes que gosto\")\n",
        "  print(filmes_que_gosto)"
      ],
      "execution_count": null,
      "outputs": []
    },
    {
      "cell_type": "code",
      "metadata": {
        "id": "GLkQk9VIwICm",
        "colab_type": "code",
        "colab": {
          "base_uri": "https://localhost:8080/",
          "height": 51
        },
        "outputId": "474ed304-8df9-4a07-cdbf-9006d10db68c"
      },
      "source": [
        "imprime_filmes(filmes)"
      ],
      "execution_count": null,
      "outputs": [
        {
          "output_type": "stream",
          "text": [
            "Alguns filmes que gosto\n",
            "['John Wick', 'Sherlock', 'Sonic']\n"
          ],
          "name": "stdout"
        }
      ]
    },
    {
      "cell_type": "code",
      "metadata": {
        "id": "X07lFgAuwLsJ",
        "colab_type": "code",
        "colab": {}
      },
      "source": [
        "idades = [\"43\" , \"54\" , \"18\"]"
      ],
      "execution_count": null,
      "outputs": []
    },
    {
      "cell_type": "code",
      "metadata": {
        "id": "DMXdX6qVwU_4",
        "colab_type": "code",
        "colab": {}
      },
      "source": [
        "def idades_de_casa(minhas_idades):\n",
        "  print(\"A idade do povo daqui de casa\")\n",
        "  print(minhas_idades)"
      ],
      "execution_count": null,
      "outputs": []
    },
    {
      "cell_type": "code",
      "metadata": {
        "id": "8xGt8i47wjnR",
        "colab_type": "code",
        "colab": {
          "base_uri": "https://localhost:8080/",
          "height": 51
        },
        "outputId": "a9b1dbc0-c508-41a0-ba3a-c60967961fc7"
      },
      "source": [
        "idades_de_casa(idades)"
      ],
      "execution_count": null,
      "outputs": [
        {
          "output_type": "stream",
          "text": [
            "A idade do povo daqui de casa\n",
            "['43', '54', '18']\n"
          ],
          "name": "stdout"
        }
      ]
    },
    {
      "cell_type": "code",
      "metadata": {
        "id": "pITCbM6Nwmxa",
        "colab_type": "code",
        "colab": {}
      },
      "source": [
        "banda1 = \"a.c\"\n",
        "banda2 = \"top\"\n",
        "banda3 = \"k.c\""
      ],
      "execution_count": null,
      "outputs": []
    },
    {
      "cell_type": "code",
      "metadata": {
        "id": "CuSjjntyw4NW",
        "colab_type": "code",
        "colab": {}
      },
      "source": [
        "bandas = [\"a.c\" , \"top\" , \"k.c\"]"
      ],
      "execution_count": null,
      "outputs": []
    },
    {
      "cell_type": "code",
      "metadata": {
        "id": "iObI0VuUxEkx",
        "colab_type": "code",
        "colab": {}
      },
      "source": [
        "def minhas_bandas(bandas_favoritas):\n",
        "  print(\"As bandas que eu gosto\")\n",
        "  print(bandas_favoritas)"
      ],
      "execution_count": null,
      "outputs": []
    },
    {
      "cell_type": "code",
      "metadata": {
        "id": "ats797L5xSCY",
        "colab_type": "code",
        "colab": {
          "base_uri": "https://localhost:8080/",
          "height": 51
        },
        "outputId": "68e0a134-89db-4552-e13f-98e047520b5c"
      },
      "source": [
        "minhas_bandas(bandas)"
      ],
      "execution_count": null,
      "outputs": [
        {
          "output_type": "stream",
          "text": [
            "As bandas que eu gosto\n",
            "['a.c', 'top', 'k.c']\n"
          ],
          "name": "stdout"
        }
      ]
    },
    {
      "cell_type": "code",
      "metadata": {
        "id": "v2W7rg87xVzo",
        "colab_type": "code",
        "colab": {
          "base_uri": "https://localhost:8080/",
          "height": 119
        },
        "outputId": "57c983eb-b7b5-4cfe-9381-3ebd2b3be1ed"
      },
      "source": [
        "minhas_bandas(bandas)\n",
        "minhas_bandas(bandas)\n",
        "minhas_bandas(bandas)"
      ],
      "execution_count": null,
      "outputs": [
        {
          "output_type": "stream",
          "text": [
            "As bandas que eu gosto\n",
            "['a.c', 'top', 'k.c']\n",
            "As bandas que eu gosto\n",
            "['a.c', 'top', 'k.c']\n",
            "As bandas que eu gosto\n",
            "['a.c', 'top', 'k.c']\n"
          ],
          "name": "stdout"
        }
      ]
    },
    {
      "cell_type": "code",
      "metadata": {
        "id": "_8xZc5vfxfxX",
        "colab_type": "code",
        "colab": {
          "base_uri": "https://localhost:8080/",
          "height": 35
        },
        "outputId": "76460153-921f-4bc0-ea5c-9688d0700bb6"
      },
      "source": [
        "bandas[2]"
      ],
      "execution_count": null,
      "outputs": [
        {
          "output_type": "execute_result",
          "data": {
            "application/vnd.google.colaboratory.intrinsic+json": {
              "type": "string"
            },
            "text/plain": [
              "'k.c'"
            ]
          },
          "metadata": {
            "tags": []
          },
          "execution_count": 25
        }
      ]
    },
    {
      "cell_type": "code",
      "metadata": {
        "id": "Lyl0hF-Sxmjs",
        "colab_type": "code",
        "colab": {
          "base_uri": "https://localhost:8080/",
          "height": 35
        },
        "outputId": "0802a414-862a-4eda-b757-09e0acd3c0d7"
      },
      "source": [
        "idades[-1]"
      ],
      "execution_count": null,
      "outputs": [
        {
          "output_type": "execute_result",
          "data": {
            "application/vnd.google.colaboratory.intrinsic+json": {
              "type": "string"
            },
            "text/plain": [
              "'18'"
            ]
          },
          "metadata": {
            "tags": []
          },
          "execution_count": 26
        }
      ]
    },
    {
      "cell_type": "code",
      "metadata": {
        "id": "rdH-4wCMx3X9",
        "colab_type": "code",
        "colab": {
          "base_uri": "https://localhost:8080/",
          "height": 34
        },
        "outputId": "de77946a-dc23-4bba-a30c-b5770763cf04"
      },
      "source": [
        "filmes[1:]"
      ],
      "execution_count": null,
      "outputs": [
        {
          "output_type": "execute_result",
          "data": {
            "text/plain": [
              "['Sherlock', 'Sonic']"
            ]
          },
          "metadata": {
            "tags": []
          },
          "execution_count": 27
        }
      ]
    },
    {
      "cell_type": "code",
      "metadata": {
        "id": "R0o6ZpHMyDA8",
        "colab_type": "code",
        "colab": {
          "base_uri": "https://localhost:8080/",
          "height": 34
        },
        "outputId": "c1585c4e-509d-41bd-e57b-99b94cb202a1"
      },
      "source": [
        "filmes[-2:]"
      ],
      "execution_count": null,
      "outputs": [
        {
          "output_type": "execute_result",
          "data": {
            "text/plain": [
              "['Sherlock', 'Sonic']"
            ]
          },
          "metadata": {
            "tags": []
          },
          "execution_count": 28
        }
      ]
    },
    {
      "cell_type": "code",
      "metadata": {
        "id": "yc1SgxhAyHa-",
        "colab_type": "code",
        "colab": {
          "base_uri": "https://localhost:8080/",
          "height": 136
        },
        "outputId": "aad820c4-334c-4e90-ddea-e1a42adaa45f"
      },
      "source": [
        "for banda in bandas:\n",
        "  print(banda)\n",
        "  print(\"...\")\n",
        "print(\"ai dentro\")"
      ],
      "execution_count": null,
      "outputs": [
        {
          "output_type": "stream",
          "text": [
            "a.c\n",
            "...\n",
            "top\n",
            "...\n",
            "k.c\n",
            "...\n",
            "ai dentro\n"
          ],
          "name": "stdout"
        }
      ]
    },
    {
      "cell_type": "code",
      "metadata": {
        "id": "2kxMziGuy9Rf",
        "colab_type": "code",
        "colab": {
          "base_uri": "https://localhost:8080/",
          "height": 68
        },
        "outputId": "5a73df54-5f55-4426-ccb8-615c0c539b23"
      },
      "source": [
        "for banda in bandas:\n",
        "  print(banda)"
      ],
      "execution_count": null,
      "outputs": [
        {
          "output_type": "stream",
          "text": [
            "a.c\n",
            "top\n",
            "k.c\n"
          ],
          "name": "stdout"
        }
      ]
    },
    {
      "cell_type": "code",
      "metadata": {
        "id": "ehOQfpebzNSg",
        "colab_type": "code",
        "colab": {}
      },
      "source": [
        "def minhas_bandas(bandas_favoritas):\n",
        "  print(\"As bandas que eu gosto\")\n",
        "  for banda in bandas_favoritas:\n",
        "    print(banda)"
      ],
      "execution_count": null,
      "outputs": []
    },
    {
      "cell_type": "code",
      "metadata": {
        "id": "sEqSFQZF0JDk",
        "colab_type": "code",
        "colab": {
          "base_uri": "https://localhost:8080/",
          "height": 85
        },
        "outputId": "966a97e8-8dc6-4fd2-c360-11474a388a05"
      },
      "source": [
        "minhas_bandas(bandas)"
      ],
      "execution_count": null,
      "outputs": [
        {
          "output_type": "stream",
          "text": [
            "As bandas que eu gosto\n",
            "a.c\n",
            "top\n",
            "k.c\n"
          ],
          "name": "stdout"
        }
      ]
    },
    {
      "cell_type": "code",
      "metadata": {
        "id": "oFgndOzM0NT-",
        "colab_type": "code",
        "colab": {}
      },
      "source": [
        ""
      ],
      "execution_count": null,
      "outputs": []
    }
  ]
}