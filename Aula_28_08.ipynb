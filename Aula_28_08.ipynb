{
  "nbformat": 4,
  "nbformat_minor": 0,
  "metadata": {
    "colab": {
      "name": "Aula_28/08.ipynb",
      "provenance": [],
      "authorship_tag": "ABX9TyM4NT0NF6ape4XLMJd/dfZS",
      "include_colab_link": true
    },
    "kernelspec": {
      "name": "python3",
      "display_name": "Python 3"
    }
  },
  "cells": [
    {
      "cell_type": "markdown",
      "metadata": {
        "id": "view-in-github",
        "colab_type": "text"
      },
      "source": [
        "<a href=\"https://colab.research.google.com/github/onvito/Marcelo-Victor---Probabilidade-e-Estartistica/blob/master/Aula_28_08.ipynb\" target=\"_parent\"><img src=\"https://colab.research.google.com/assets/colab-badge.svg\" alt=\"Open In Colab\"/></a>"
      ]
    },
    {
      "cell_type": "code",
      "metadata": {
        "id": "IevcXpvpO3Oz",
        "colab_type": "code",
        "colab": {
          "base_uri": "https://localhost:8080/",
          "height": 34
        },
        "outputId": "538d5eb8-35b6-4bf7-dd3a-0eb88ea317a0"
      },
      "source": [
        "MeuTexto1 = 'Palavra A'\n",
        "print( len(MeuTexto1) )"
      ],
      "execution_count": 1,
      "outputs": [
        {
          "output_type": "stream",
          "text": [
            "9\n"
          ],
          "name": "stdout"
        }
      ]
    },
    {
      "cell_type": "code",
      "metadata": {
        "id": "t6XCEbuRPHNa",
        "colab_type": "code",
        "colab": {
          "base_uri": "https://localhost:8080/",
          "height": 68
        },
        "outputId": "8adf0f77-9a83-4186-f662-9e5461399339"
      },
      "source": [
        "MeuTexto1 = 'Pal A\\nPal B'\n",
        "print( len(MeuTexto1) )\n",
        "print(MeuTexto1)\n",
        "prin"
      ],
      "execution_count": 6,
      "outputs": [
        {
          "output_type": "stream",
          "text": [
            "11\n",
            "Pal A\n",
            "Pal B\n"
          ],
          "name": "stdout"
        }
      ]
    },
    {
      "cell_type": "code",
      "metadata": {
        "id": "Jxy3gqyJPYa8",
        "colab_type": "code",
        "colab": {
          "base_uri": "https://localhost:8080/",
          "height": 35
        },
        "outputId": "1160e6c2-da35-4649-e91b-42537e422291"
      },
      "source": [
        "MeuTexto1[10]"
      ],
      "execution_count": 9,
      "outputs": [
        {
          "output_type": "execute_result",
          "data": {
            "application/vnd.google.colaboratory.intrinsic+json": {
              "type": "string"
            },
            "text/plain": [
              "'B'"
            ]
          },
          "metadata": {
            "tags": []
          },
          "execution_count": 9
        }
      ]
    },
    {
      "cell_type": "code",
      "metadata": {
        "id": "1EC8dvSMP_xb",
        "colab_type": "code",
        "colab": {}
      },
      "source": [
        "Acordes = ['F' , 'Dm' , 'Am' , 'Em']\n",
        "def musica(Acordes):\n",
        "  print(Acordes)\n",
        "  print( len(Acordes) )"
      ],
      "execution_count": 14,
      "outputs": []
    },
    {
      "cell_type": "code",
      "metadata": {
        "id": "bB-D5HAIXyYt",
        "colab_type": "code",
        "colab": {
          "base_uri": "https://localhost:8080/",
          "height": 34
        },
        "outputId": "c8417c35-21bf-4321-cc3f-5d04144b60ed"
      },
      "source": [
        "print(musica)"
      ],
      "execution_count": 15,
      "outputs": [
        {
          "output_type": "stream",
          "text": [
            "<function musica at 0x7fe9e62f6e18>\n"
          ],
          "name": "stdout"
        }
      ]
    },
    {
      "cell_type": "code",
      "metadata": {
        "id": "VWr4KuToX5Rd",
        "colab_type": "code",
        "colab": {}
      },
      "source": [
        ""
      ],
      "execution_count": null,
      "outputs": []
    },
    {
      "cell_type": "code",
      "metadata": {
        "id": "BVColjihX901",
        "colab_type": "code",
        "colab": {
          "base_uri": "https://localhost:8080/",
          "height": 34
        },
        "outputId": "084b6ec7-d0c3-4bbf-f46b-db0d577b3cca"
      },
      "source": [
        "print(Acordes)"
      ],
      "execution_count": 13,
      "outputs": [
        {
          "output_type": "stream",
          "text": [
            "['F', 'Dm', 'Am', 'Em']\n"
          ],
          "name": "stdout"
        }
      ]
    },
    {
      "cell_type": "code",
      "metadata": {
        "id": "dYkEJH5PYBu9",
        "colab_type": "code",
        "colab": {
          "base_uri": "https://localhost:8080/",
          "height": 68
        },
        "outputId": "eec3c72b-f05b-4b04-a33d-dc32187ecfb2"
      },
      "source": [
        "Lista1 = [4, 'IESB', 78.5 , False]\n",
        "print( type(Lista1[3]) )\n",
        "print(Lista1)\n",
        "print(Lista1[1][3])"
      ],
      "execution_count": 20,
      "outputs": [
        {
          "output_type": "stream",
          "text": [
            "<class 'bool'>\n",
            "[4, 'IESB', 78.5, False]\n",
            "B\n"
          ],
          "name": "stdout"
        }
      ]
    },
    {
      "cell_type": "code",
      "metadata": {
        "id": "TDM2e0gldRoo",
        "colab_type": "code",
        "colab": {}
      },
      "source": [
        ""
      ],
      "execution_count": null,
      "outputs": []
    }
  ]
}