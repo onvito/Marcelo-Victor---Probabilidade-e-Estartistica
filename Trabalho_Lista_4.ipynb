{
  "nbformat": 4,
  "nbformat_minor": 0,
  "metadata": {
    "colab": {
      "name": "Trabalho_Lista-4.ipynb",
      "provenance": [],
      "authorship_tag": "ABX9TyMyCcSzyQKb2pv6Cq0OJg7z",
      "include_colab_link": true
    },
    "kernelspec": {
      "name": "python3",
      "display_name": "Python 3"
    }
  },
  "cells": [
    {
      "cell_type": "markdown",
      "metadata": {
        "id": "view-in-github",
        "colab_type": "text"
      },
      "source": [
        "<a href=\"https://colab.research.google.com/github/onvito/Marcelo-Victor---Probabilidade-e-Estartistica/blob/master/Trabalho_Lista_4.ipynb\" target=\"_parent\"><img src=\"https://colab.research.google.com/assets/colab-badge.svg\" alt=\"Open In Colab\"/></a>"
      ]
    },
    {
      "cell_type": "code",
      "metadata": {
        "colab": {
          "base_uri": "https://localhost:8080/"
        },
        "id": "WZCiaJhbgU5C",
        "outputId": "7b622002-9acb-47d6-c7f4-ff4006e15f46"
      },
      "source": [
        "# Disciplina: Probabilidade e Estatística\n",
        "# Aluno: Marcelo Victor de Lima Nunes\n",
        "# Lista 4\n",
        "\n",
        "# QUESTAO 1\n",
        "# Escreva um programa para ler o número de lados de um polígono regular e a\n",
        "# medida do lado (em cm). Calcular e imprimir o seguinte: − Se o número de lados\n",
        "# for igual a 3 escrever TRIÂNGULO e o valor da área − Se o número de lados for\n",
        "# igual a 4 escrever QUADRADO e o valor da sua área. − Se o número de lados for\n",
        "# igual a 5 escrever PENTÁGONO.\n",
        "\n",
        "\n",
        "\n",
        "polig = input('Escreva o numero de lados: ')                    # Faz com que o usuario insira dado na variavel\n",
        "if polig == '3':                                                # Quando o valor da variável for 3, \n",
        "  print('É um Triangulo!')                                      # o codigo irá 'printar' o que esta escrito dentro do parenteses.\n",
        "  Num = float(input('Escreva a medida do lado em cm: '))        # O usuario deve inserir uma medida\n",
        "  cL = (Num*Num)/2                                              # Será feito um calculo para calcular a area da medida inserida acima\n",
        "  print('E o valor de sua área em cm é ', cL )                  # Será impresso o calculo feito.\n",
        "elif polig == '4' :\n",
        "  print('É um Quadrado!')\n",
        "  Num = float(input('Escreva a medida do lado em cm: '))\n",
        "  cL = Num*Num\n",
        "  print('E o valor de sua área em cm é ', cL )\n",
        "elif polig == '5' :\n",
        "  print('É um Pentágono!')\n",
        " "
      ],
      "execution_count": 3,
      "outputs": [
        {
          "output_type": "stream",
          "text": [
            "Escreva o numero de lados: 2\n"
          ],
          "name": "stdout"
        }
      ]
    },
    {
      "cell_type": "code",
      "metadata": {
        "id": "uOZxWxjykDgW",
        "colab": {
          "base_uri": "https://localhost:8080/"
        },
        "outputId": "0f2503f8-c752-4c12-f70f-91c481623d87"
      },
      "source": [
        "# QUESTAO 2\n",
        "# Acrescente as seguintes mensagens à solução do exercício anterior conforme o\n",
        "# caso. − Caso o número de lados seja inferior a 3 escrever NÃO É UM\n",
        "# POLÍGONO. − Caso o número de lados seja superior a 5 escrever POLÍGONO\n",
        "# NÃO IDENTIFICADO.\n",
        "\n",
        "polig = input('Escreva o numero de lados entre 3 e 5: ')        # Faz com que o usuario insira dado na variavel\n",
        "if polig <= '2' or polig > '5':                                          \n",
        "  while True:\n",
        "    if polig <= '2':                                            # Aqui usamos uma variavel booleana para verificar se o usuario inseriu um dado correto\n",
        "      print('Não é um Polígono')\n",
        "    polig = input('Escreva o numero de lados entre 3 e 5: ')\n",
        "    if polig >'5':\n",
        "      print('Polígono não identificado.')\n",
        "      polig = input('Escreva o numero de lados entre 3 e 5: ')\n",
        "    if polig >= '3' or polig <= '5':\n",
        "      break                                                     # Caso esteja correto, a verificação encerra por aqui\n",
        "if polig == '3':                                             \n",
        "  print('É um Triangulo!')\n",
        "  Num = float(input('Escreva a medida do lado em cm: '))\n",
        "  cL = (Num*Num)/2\n",
        "  print('E o valor de sua área em cm é ', cL )\n",
        "elif polig == '4' :\n",
        "  print('É um Quadrado!')\n",
        "  Num = float(input('Escreva a medida do lado em cm: '))\n",
        "  cL = Num*Num\n",
        "  print('E o valor de sua área em cm é ', cL )\n",
        "elif polig == '5' :\n",
        "  print('É um Pentágono!')\n",
        " "
      ],
      "execution_count": 11,
      "outputs": [
        {
          "output_type": "stream",
          "text": [
            "Escreva o numero de lados entre 3 e 5: 4\n",
            "É um Quadrado!\n",
            "Escreva a medida do lado em cm: 4\n",
            "E o valor de sua área em cm é  16.0\n"
          ],
          "name": "stdout"
        }
      ]
    },
    {
      "cell_type": "code",
      "metadata": {
        "colab": {
          "base_uri": "https://localhost:8080/"
        },
        "id": "ZevqGxRwocd6",
        "outputId": "0e637809-4c99-458e-b547-85b5dadc169c"
      },
      "source": [
        "\n",
        "# QUESTAO 3\n",
        "# Escreva um programa para ler 3 valores inteiros e escrever o maior deles.\n",
        "# Considere que o usuário não informará valores iguais.\n",
        "\n",
        "n1 = int(input('Insira o primeiro valor: '))\n",
        "n2 = int(input('Insira o segundo valor: '))\n",
        "n3 = int(input('Insira o terceiro valor: '))\n",
        "print('O maior dos números é:', max(n1,n2,n3))"
      ],
      "execution_count": null,
      "outputs": [
        {
          "output_type": "stream",
          "text": [
            "Insira o primeiro valor: 2\n",
            "Insira o segundo valor: 3\n",
            "Insira o terceiro valor: 2\n",
            "O maior dos números é: 3\n"
          ],
          "name": "stdout"
        }
      ]
    },
    {
      "cell_type": "code",
      "metadata": {
        "colab": {
          "base_uri": "https://localhost:8080/"
        },
        "id": "3ZNcgN-9pqOO",
        "outputId": "f6b99cc8-caf8-4702-b2cf-6fbf031370a8"
      },
      "source": [
        "# QUESTAO 4\n",
        "# Escreva um programa que leia as medidas dos lados de um triângulo e escreva\n",
        "# se ele é Equilátero, Isósceles ou Escaleno. Sendo que: − Triângulo Equilátero:\n",
        "# possui os 3 lados iguais. − Triângulo Isóscele: possui 2 lados iguais. − Triângulo\n",
        "# Escaleno: possui 3 lados diferentes.\n",
        "\n",
        "A= float(input('Insira a medida do lado 1 do Triângulo: '))\n",
        "B= float(input('Insira a medida do lado 2 do Triângulo: '))\n",
        "C= float(input('Insira a medida do lado 3 do Triângulo: '))\n",
        "\n",
        "if ((A == B) and (B == C)):\n",
        "  print('É um Triângulo Equilátero')\n",
        "elif ((A == B) or (B == C) or (A == C)):\n",
        "  print('É um Triângulo Isóscele')\n",
        "else:\n",
        "  print('É um Triângulo Escaleno')"
      ],
      "execution_count": null,
      "outputs": [
        {
          "output_type": "stream",
          "text": [
            "Insira a medida do lado 1 do Triângulo: 1\n",
            "Insira a medida do lado 2 do Triângulo: 2\n",
            "Insira a medida do lado 3 do Triângulo: 3\n",
            "É um Triângulo Escaleno\n"
          ],
          "name": "stdout"
        }
      ]
    },
    {
      "cell_type": "code",
      "metadata": {
        "colab": {
          "base_uri": "https://localhost:8080/"
        },
        "id": "ODdCqBIMtqVN",
        "outputId": "699f84ea-121e-4f22-9ea5-c08add141d34"
      },
      "source": [
        "# QUESTAO 5\n",
        "# Escreva um programa que leia o valor de 3 ângulos de um triângulo e escreva se\n",
        "# o triângulo é Acutângulo, Retângulo ou Obtusângulo. Sendo que: − Triângulo\n",
        "# Retângulo: possui um ângulo reto. (igual a 90º) − Triângulo Obtusângulo: possui\n",
        "# um ângulo obtuso. (maior que90º) − Triângulo Acutângulo: possui três ângulos\n",
        "# agudos. (menor que 90º)\n",
        "\n",
        "Ang1 = int(input('Digite valor do 1° Ângulo: '))\n",
        "Ang2 = int(input('Digite valor do 2° Ângulo: '))\n",
        "Ang3 = int(input('Digite valor do 3° Ângulo: '))\n",
        "\n",
        "if ((Ang1 == 90) or (Ang2 == 90) or (Ang3 == 90)):\n",
        "  print('É um Triângulo Retângulo')\n",
        "elif ((Ang1 > 90) or (Ang2 > 90) or (Ang3 > 90)):\n",
        "  print('É um Triângulo Obtusângulo')\n",
        "elif ((Ang1 < 90) or (Ang2 < 90) or (Ang3 < 90)):\n",
        "  print('É um Triângulo Acutângulo')\n",
        "\n"
      ],
      "execution_count": null,
      "outputs": [
        {
          "output_type": "stream",
          "text": [
            "Digite valor do 1° Ângulo: 56\n",
            "Digite valor do 2° Ângulo: 45\n",
            "Digite valor do 3° Ângulo: 41\n",
            "É um Triângulo Acutângulo\n"
          ],
          "name": "stdout"
        }
      ]
    },
    {
      "cell_type": "code",
      "metadata": {
        "colab": {
          "base_uri": "https://localhost:8080/"
        },
        "id": "SFrHoHtExt19",
        "outputId": "30122d0e-88cb-4251-f429-06e1f69c5325"
      },
      "source": [
        "# QUESTAO 6\n",
        "# Faça um programa para ler um número inteiro e imprimir todos os números de 0\n",
        "# até o número lido.\n",
        "\n",
        "Num = int(input('Insira um numero: '))\n",
        "for Num in range(0, Num+1):\n",
        "  print(Num)"
      ],
      "execution_count": null,
      "outputs": [
        {
          "output_type": "stream",
          "text": [
            "Insira um numero: 2\n",
            "0\n",
            "1\n",
            "2\n"
          ],
          "name": "stdout"
        }
      ]
    },
    {
      "cell_type": "code",
      "metadata": {
        "colab": {
          "base_uri": "https://localhost:8080/"
        },
        "id": "rhQxF5lZyIn9",
        "outputId": "881aee71-0d17-47e9-ff2a-60d46bf4872a"
      },
      "source": [
        "# QUESTAO 7\n",
        "# Solicitar um número entre 1 e 4. Se a pessoas digitar um número diferente,\n",
        "# mostrar a mensagem \"entrada inválida\" e solicitar o número novamente. Se\n",
        "# digitar correto mostrar o número digitado.\n",
        "\n",
        "Sl = int(input('Escreva um número de 1 a 4: '))\n",
        "if Sl>4 or Sl<1:\n",
        "  while True:\n",
        "    print('Entrada inválida')\n",
        "    Sl = int(input('Escreva um número de 1 a 4: '))\n",
        "    if Sl >=1 and Sl <=4:\n",
        "      break\n",
        "print('Número Digitado:', Sl)\n"
      ],
      "execution_count": null,
      "outputs": [
        {
          "output_type": "stream",
          "text": [
            "Escreva um número de 1 a 4: 2\n",
            "Numero Digitado: 2\n"
          ],
          "name": "stdout"
        }
      ]
    },
    {
      "cell_type": "code",
      "metadata": {
        "id": "DMQW-nL-zHV0"
      },
      "source": [
        "# QUESTAO 8\n",
        "# Fazer um programa que receba vários valores inteiros no teclado (um valor a\n",
        "# cada iteração) e determine o maior dos colocados desde o inicio do programa. A\n",
        "# condição de término do programa é quando o usuário digitar zero.\n",
        "\n",
        "Num = input('Insira os numeros: ')\n",
        "print(Num)\n",
        "if Num>'0' or Num<'0':\n",
        "  while True:\n",
        "    Num = input('Insira os numeros: ')\n",
        "    print(Num)\n",
        "    if Num == '0':\n",
        "      print('Sequencia Encerrada')\n",
        "      break"
      ],
      "execution_count": null,
      "outputs": []
    },
    {
      "cell_type": "code",
      "metadata": {
        "colab": {
          "base_uri": "https://localhost:8080/"
        },
        "id": "1Oy3akTx0v99",
        "outputId": "87f11825-55fc-4bd4-b98c-9a417c0f005a"
      },
      "source": [
        "443# QUESTAO 9\n",
        "# Escreva um programa Python que leia um número inteiro positivo de 4 dígitos,\n",
        "# calcule e mostre a sua decomposição em unidade, dezena, centena e milhar:\n",
        "# Exemplo: 8531; unidade = 1 dezena = 3 centena = 5 5 milhar = 8\n",
        "\n",
        "n = int(input(\"Digite um número inteiro de 4 digitos: \")) \n",
        "print(n) \n",
        "u = (n // 1) % 10\n",
        "print(\"O dígito da unidade é:\", u)\n",
        "d = (n // 10) % 10 \n",
        "print(\"O dígito da dezena é:\", d)\n",
        "c = (n // 100) % 10 \n",
        "print(\"O dígito da centena é:\", c)\n",
        "m = (n // 1000) % 10 \n",
        "print(\"O dígito do milhar é:\", m)\n"
      ],
      "execution_count": null,
      "outputs": [
        {
          "output_type": "stream",
          "text": [
            "Digite um número inteiro de 4 digitos: 135\n",
            "135\n",
            "O dígito da unidade é: 5\n",
            "O dígito da dezena é: 3\n",
            "O dígito da centena é: 1\n",
            "O dígito do milhar é: 0\n"
          ],
          "name": "stdout"
        }
      ]
    },
    {
      "cell_type": "code",
      "metadata": {
        "id": "5rO-furDdNcS"
      },
      "source": [
        ""
      ],
      "execution_count": null,
      "outputs": []
    }
  ]
}