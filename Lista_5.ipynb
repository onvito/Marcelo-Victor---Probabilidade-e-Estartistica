{
  "nbformat": 4,
  "nbformat_minor": 0,
  "metadata": {
    "colab": {
      "name": "Lista-5.ipynb",
      "provenance": [],
      "authorship_tag": "ABX9TyNFMpTlML5SYirWRefccUu/",
      "include_colab_link": true
    },
    "kernelspec": {
      "name": "python3",
      "display_name": "Python 3"
    }
  },
  "cells": [
    {
      "cell_type": "markdown",
      "metadata": {
        "id": "view-in-github",
        "colab_type": "text"
      },
      "source": [
        "<a href=\"https://colab.research.google.com/github/onvito/Marcelo-Victor---Probabilidade-e-Estartistica/blob/master/Lista_5.ipynb\" target=\"_parent\"><img src=\"https://colab.research.google.com/assets/colab-badge.svg\" alt=\"Open In Colab\"/></a>"
      ]
    },
    {
      "cell_type": "code",
      "metadata": {
        "id": "ivpa4RBMggCN"
      },
      "source": [
        "# Disciplina: Probabilidade e Estatística\n",
        "# Aluno: Marcelo Victor de Lima Nunes\n",
        "# Lista 5\n",
        "\n",
        "# Questão 1\n",
        "\n",
        "from scipy.stats.mstats import hmean        # Essa e as próximas 3 linhas são importação de \n",
        "from scipy.stats.mstats import gmean        # biblioteca para realizar operações matemáticas\n",
        "import statistics\n",
        "import numpy as np\n",
        "valores = [10, 13, 17, 9, 8, 11, 13, 7]       # Valores dados na questão\n",
        "print(valores)                                # Exibição dos mesmos\n",
        "\n",
        "#a) Média aritmética simples;\n",
        "media = np.mean(valores)                          # Função para fazer a média aritmética\n",
        "print('A média aritmética simples é:', media)     # Exibir a mesma\n",
        "print('---------------')                          # Exibir a linha apenas para separar as alternativas\n",
        "\n",
        "#b) Média harmônica;\n",
        "h = round(hmean(valores))                         # Função para média harmônica          \n",
        "print('A média harmônica é:', h)                  # Exibir a mesma\n",
        "print('---------------')                          # Exibir a linha apenas para separar as alternativas\n",
        "\n",
        "#c) Média geométrica;\n",
        "g = round(gmean(valores))                         # Função para média geométrica\n",
        "print('A média geométrica é:', g)                 # Exibir a mesma\n",
        "print('---------------')                          # Exibir a linha apenas para separar as alternativas\n",
        "\n",
        "#d) Moda;\n",
        "m = statistics.mode(valores)                      # Função para mostar moda    \n",
        "print('A moda é:', m)                             # Exibir a mesma\n",
        "print('---------------')                          # Exibir a linha apenas para separar as alternativas\n",
        "\n",
        "#e) Variância;\n",
        "v = np.var(valores)                               # Função para variância\n",
        "print('A variância é:', v)                        # Exibir a mesma\n",
        "print('---------------')                          # Exibir a linha apenas para separar as alternativas\n",
        "\n",
        "#f) Desvio padrão.\n",
        "dv = round(np.std(valores))                       # Função para cálcular Desvio Padrão\n",
        "print('O Desvio padrão é:', dv)                   # Exibir a mesma\n"
      ],
      "execution_count": null,
      "outputs": []
    },
    {
      "cell_type": "code",
      "metadata": {
        "id": "CxvTwgteilAk"
      },
      "source": [
        "# Questão 2\n",
        "\n",
        "from scipy.stats.mstats import hmean              # Esse código reproduz quase a mesma coisa do código anterior.\n",
        "from scipy.stats.mstats import gmean              # Com exceção da mediana.\n",
        "import statistics\n",
        "import numpy as np\n",
        "\n",
        "vtwo = [67, 75, 63, 72, 77, 78, 81, 77, 80]\n",
        "print(vtwo)\n",
        "\n",
        "#a) Média aritmética simples, harmônica e geométrica\n",
        "media = round(np.mean(vtwo))\n",
        "print('A média aritmética simples é:', media)\n",
        "h = round(hmean(vtwo))\n",
        "print('A média harmônica é:', h)\n",
        "g = round(gmean(vtwo))\n",
        "print('A média geométrica é:', g)\n",
        "print('---------------')\n",
        "\n",
        "#b) Moda;\n",
        "m = statistics.mode(vtwo)\n",
        "print('A moda é:', m)\n",
        "print('---------------')\n",
        "\n",
        "#c) Mediana;\n",
        "print(vtwo)                           # Exibir os valores dado pela questão\n",
        "vtwo = np.sort(vtwo)                  # Função para organizar do menor para maior para facilitar visualização\n",
        "mediana = statistics.median(vtwo)     # Calcular mediana \n",
        "print('A mediana é:', mediana)        # Exibir a mesma\n",
        "print('---------------')\n",
        "\n",
        "#d) Variância;\n",
        "v = round(np.var(vtwo))\n",
        "print('A variância é:', v)\n",
        "print('---------------')\n",
        "\n",
        "#e) Desvio padrão;\n",
        "dv = round(np.std(vtwo))\n",
        "print('O Desvio padrão é:', dv)\n",
        "\n"
      ],
      "execution_count": null,
      "outputs": []
    },
    {
      "cell_type": "code",
      "metadata": {
        "id": "CWi5qdaKx3gi"
      },
      "source": [
        "# Questão 3\n",
        "import numpy as np\n",
        "\n",
        "ordenhas = [4, 4.5, 5, 5.5, 6, 6, 6.5, 6.5, 6.5,                   # Valores dado pela questão\n",
        "            6.5, 7, 7, 7, 7, 7, 7, 7.5, 8.5, 9, 9,\n",
        "            9, 9.5, 10, 10, 10.5, 10.5, 11, 12, 12.5, 13, 13]\n",
        "print(ordenhas)                                                    # Exibir as mesmas\n",
        "print('---------------')\n",
        "# Coeficiente de variação: ([desvio_padrao]/[media])*100\n",
        "dv = round(np.std(ordenhas))                                       # Função para calcular o desvio padrao\n",
        "media = round(np.mean(ordenhas))                                   # Função para calcular a média aritmética simples\n",
        "coeficiente = (dv/media)*100                                       # Uma variavel para fazer o calculo do coeficiente de variação\n",
        "print('O coeficiente de variação desse conjunto é:', coeficiente)  # Exibição da mesma\n"
      ],
      "execution_count": null,
      "outputs": []
    },
    {
      "cell_type": "code",
      "metadata": {
        "id": "XHeJzqcdD1iB"
      },
      "source": [
        "# Questão 4\n",
        "\n",
        "import statistics                                     # Questão produz quase o mesmo resultado das questões 1 e 2\n",
        "import numpy as np                                    # Com uma diferença dada apenas pelos valores da questão.\n",
        "\n",
        "vthree = [12, 15, 18, 22, 17, 14, 18, 23, 29, 12]\n",
        "print(vthree)\n",
        "\n",
        "# a) Calcule o valor da produção média\n",
        "pm = np.mean(vthree)\n",
        "print('A produção média é de:', pm, 'toneladas')\n",
        "print('---------------')\n",
        "\n",
        "# b) Calcule o valor da mediana da produção\n",
        "print(vthree)\n",
        "vthree = np.sort(vthree)\n",
        "mediana = statistics.median(vthree)\n",
        "print('A mediana é:', mediana)\n",
        "print('---------------')\n",
        "\n",
        "# c) Calcule o valor do desvio padrão da produção\n",
        "dv = round(np.std(vthree))\n",
        "print('O Desvio padrão é:', dv)"
      ],
      "execution_count": null,
      "outputs": []
    },
    {
      "cell_type": "code",
      "metadata": {
        "id": "AcxC0WHEGg_j"
      },
      "source": [
        "# Questão 6\n",
        "import numpy as np                               # Importação da biblioteca numpy\n",
        "\n",
        "print('Digite 3 notas entre 0 e 10')             # Pedindo para usuario digitar os numeros\n",
        "n1 = float(input(\"Digite a 1º nota:\"))          \n",
        "n2 = float(input(\"Digite a 2º nota:\"))\n",
        "n3 = float(input(\"Digite a 3º nota:\"))\n",
        "if ((n1 >10) or (n1 <0) and (n2 >10) or (n2 <0) and (n3 >10) or (n3 <0)): # Se algum dos numeros for maior que 10 ou menor que 0\n",
        "  while True:                                                             # Inicia uma repetição\n",
        "    print('Digite um número entre 0 e 10!')                               # E o usuário será obrigado a digitar os números corretos\n",
        "    n1 = float(input(\"Digite a 1º nota:\"))\n",
        "    n2 = float(input(\"Digite a 2º nota:\"))\n",
        "    n3 = float(input(\"Digite a 3º nota:\"))\n",
        "    if ((n1 <10) or (n1 >0) and (n2 <10) or (n2 >0) and (n3 <10) or (n3 >0)): # Se tiver dentro dos parâmetros da questão\n",
        "      break                                                                   # Encerra-se a repetição\n",
        "  \n",
        "# calcular media  \n",
        "mp = round(np.average([n1, n2, n3], weights = [3, 4, 3]))   # Função para calcular a média ponderada\n",
        "print('A média ponderada é: ', mp)                          # Exibir a mesma\n",
        " "
      ],
      "execution_count": null,
      "outputs": []
    }
  ]
}